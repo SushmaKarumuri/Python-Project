{
 "cells": [
  {
   "cell_type": "code",
   "execution_count": 1,
   "id": "8441f390-7e18-4267-acb1-c4ad6cfdf29b",
   "metadata": {},
   "outputs": [
    {
     "name": "stdout",
     "output_type": "stream",
     "text": [
      "Requirement already satisfied: qrcode[pil] in c:\\users\\sushma\\anaconda3\\lib\\site-packages (8.2)\n",
      "Requirement already satisfied: colorama in c:\\users\\sushma\\anaconda3\\lib\\site-packages (from qrcode[pil]) (0.4.6)\n",
      "Requirement already satisfied: pillow>=9.1.0 in c:\\users\\sushma\\anaconda3\\lib\\site-packages (from qrcode[pil]) (10.4.0)\n",
      "Note: you may need to restart the kernel to use updated packages.\n"
     ]
    }
   ],
   "source": [
    "pip install qrcode[pil]"
   ]
  },
  {
   "cell_type": "code",
   "execution_count": 2,
   "id": "7efacf86-a363-46f9-9071-65d75be013ee",
   "metadata": {},
   "outputs": [
    {
     "name": "stdout",
     "output_type": "stream",
     "text": [
      "Requirement already satisfied: qrcode in c:\\users\\sushma\\anaconda3\\lib\\site-packages (8.2)\n",
      "Requirement already satisfied: colorama in c:\\users\\sushma\\anaconda3\\lib\\site-packages (from qrcode) (0.4.6)\n",
      "Note: you may need to restart the kernel to use updated packages.\n"
     ]
    }
   ],
   "source": [
    "pip install qrcode"
   ]
  },
  {
   "cell_type": "code",
   "execution_count": 3,
   "id": "37f8bc29-a21d-4948-b7d8-bf2a76e49bb6",
   "metadata": {},
   "outputs": [
    {
     "data": {
      "image/png": "[encoded data removed]",
      "text/plain": [
       "<Figure size 640x480 with 1 Axes>"
      ]
     },
     "metadata": {},
     "output_type": "display_data"
    },
    {
     "name": "stdout",
     "output_type": "stream",
     "text": [
      "[b'https://www.flipkart.com/']\n"
     ]
    }
   ],
   "source": [
    "import qrcode\n",
    "\n",
    "input_URL = \"https://www.flipkart.com/\"\n",
    "\n",
    "qr = qrcode.QRCode(\n",
    "    version=1,\n",
    "    error_correction=qrcode.constants.ERROR_CORRECT_L,\n",
    "    box_size=15,\n",
    "    border=4,\n",
    ")\n",
    "\n",
    "qr.add_data(input_URL)\n",
    "qr.make(fit=True)\n",
    "import matplotlib.pyplot as plt\n",
    "\n",
    "# Convert QR code to an image\n",
    "img = qr.make_image(fill_color=\"black\", back_color=\"white\")\n",
    "\n",
    "# Show the image in the notebook\n",
    "plt.imshow(img, cmap='gray')\n",
    "plt.axis('off')\n",
    "plt.show()\n",
    "\n",
    "img = qr.make_image(fill_color=\"red\", back_color=\"white\")\n",
    "img.save(\"url_qrcode.png\")\n",
    "\n",
    "print(qr.data_list)"
   ]
  }
 ],
 "metadata": {
  "kernelspec": {
   "display_name": "Python [conda env:base] *",
   "language": "python",
   "name": "conda-base-py"
  },
  "language_info": {
   "codemirror_mode": {
    "name": "ipython",
    "version": 3
   },
   "file_extension": ".py",
   "mimetype": "text/x-python",
   "name": "python",
   "nbconvert_exporter": "python",
   "pygments_lexer": "ipython3",
   "version": "3.12.7"
  }
 },
 "nbformat": 4,
 "nbformat_minor": 5
}
